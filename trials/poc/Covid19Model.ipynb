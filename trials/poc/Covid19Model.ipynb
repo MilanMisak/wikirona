{
 "cells": [
  {
   "cell_type": "markdown",
   "metadata": {},
   "source": [
    "# Covid19 Therapy Prediction"
   ]
  },
  {
   "cell_type": "code",
   "execution_count": 137,
   "metadata": {},
   "outputs": [],
   "source": [
    "import pandas as pd                 # pandas is a dataframe library\n",
    "import matplotlib.pyplot as plt      # matplotlib.pyplot plots data\n",
    "\n",
    "%matplotlib inline"
   ]
  },
  {
   "cell_type": "markdown",
   "metadata": {},
   "source": [
    "### Definition of features\n",
    "\n",
    "| Feature  | Description | Comments |\n",
    "|--------------|-------------|--------|\n",
    "| gender   | Gender of patiant | Class variable (m=Male, f=Female)\n",
    "| dob | Date of birth |\n",
    "| ethnicity | Ethnicity of patient |\n",
    "| s_date | Covid19 Symptoms StartDate |\n",
    "| h_date | Hospitalization Date |\n",
    "| therapy | Class variable (1=Therapy A, 2=Therapy B) |  |"
   ]
  },
  {
   "cell_type": "code",
   "execution_count": 138,
   "metadata": {},
   "outputs": [
    {
     "data": {
      "text/html": [
       "<div>\n",
       "<style scoped>\n",
       "    .dataframe tbody tr th:only-of-type {\n",
       "        vertical-align: middle;\n",
       "    }\n",
       "\n",
       "    .dataframe tbody tr th {\n",
       "        vertical-align: top;\n",
       "    }\n",
       "\n",
       "    .dataframe thead th {\n",
       "        text-align: right;\n",
       "    }\n",
       "</style>\n",
       "<table border=\"1\" class=\"dataframe\">\n",
       "  <thead>\n",
       "    <tr style=\"text-align: right;\">\n",
       "      <th></th>\n",
       "      <th>dob</th>\n",
       "      <th>ethnicity</th>\n",
       "      <th>gender</th>\n",
       "      <th>therapy</th>\n",
       "    </tr>\n",
       "  </thead>\n",
       "  <tbody>\n",
       "    <tr>\n",
       "      <th>0</th>\n",
       "      <td>1979-03-21</td>\n",
       "      <td>asian_pakistani</td>\n",
       "      <td>m</td>\n",
       "      <td>therapy C</td>\n",
       "    </tr>\n",
       "    <tr>\n",
       "      <th>1</th>\n",
       "      <td>1944-03-26</td>\n",
       "      <td>asian_pakistani</td>\n",
       "      <td>f</td>\n",
       "      <td>therapy A</td>\n",
       "    </tr>\n",
       "    <tr>\n",
       "      <th>2</th>\n",
       "      <td>1972-12-22</td>\n",
       "      <td>black_african</td>\n",
       "      <td>f</td>\n",
       "      <td>therapy A</td>\n",
       "    </tr>\n",
       "    <tr>\n",
       "      <th>3</th>\n",
       "      <td>1931-06-27</td>\n",
       "      <td>mixed_white_and_black_african</td>\n",
       "      <td>m</td>\n",
       "      <td>therapy C</td>\n",
       "    </tr>\n",
       "    <tr>\n",
       "      <th>4</th>\n",
       "      <td>1949-05-20</td>\n",
       "      <td>white_irish</td>\n",
       "      <td>m</td>\n",
       "      <td>therapy B</td>\n",
       "    </tr>\n",
       "  </tbody>\n",
       "</table>\n",
       "</div>"
      ],
      "text/plain": [
       "          dob                      ethnicity gender    therapy\n",
       "0  1979-03-21                asian_pakistani      m  therapy C\n",
       "1  1944-03-26                asian_pakistani      f  therapy A\n",
       "2  1972-12-22                  black_african      f  therapy A\n",
       "3  1931-06-27  mixed_white_and_black_african      m  therapy C\n",
       "4  1949-05-20                    white_irish      m  therapy B"
      ]
     },
     "execution_count": 138,
     "metadata": {},
     "output_type": "execute_result"
    }
   ],
   "source": [
    "from random import choice, random\n",
    "import time\n",
    "from datetime import date, datetime\n",
    "\n",
    "gender_map = {'m': 0, 'f': 1}\n",
    "ethnicity_map = {'white_british': 0, 'white_irish': 1, 'white_gypsy': 2, 'white_other': 3, \n",
    "                'mixed_white_and_black_carribbean': 4, 'mixed_white_and_black_african': 5,\n",
    "                'mixed_white_and_asain': 6, 'mixed_other': 7,\n",
    "                'asian_indian': 8, 'asian_pakistani': 9, 'asian_chinese': 10, 'asian_other': 11,\n",
    "                'black_african': 12, 'black_caribbean': 13, 'black_other': 14}\n",
    "therapy_map = {'therapy A': 0, 'therapy B': 1, 'therapy C': 2}\n",
    "\n",
    "genders = [*gender_map]\n",
    "ethnicities = [*ethnicity_map]\n",
    "therapies = [*therapy_map]\n",
    "\n",
    "ISO_FMT = '%Y-%m-%d'\n",
    "\n",
    "def random_date(start, end):\n",
    "    stime = time.mktime(time.strptime(start, ISO_FMT))\n",
    "    etime = time.mktime(time.strptime(end, ISO_FMT))\n",
    "    ptime = stime + random() * (etime - stime)\n",
    "    return time.strftime(ISO_FMT, time.localtime(ptime))\n",
    "\n",
    "def get_age(dob):\n",
    "    return date.today().year - datetime.strptime(dob, ISO_FMT).year\n",
    "    \n",
    "\n",
    "def random_sample_data():\n",
    "    return {\n",
    "        'gender': choice(genders),\n",
    "        'ethnicity': choice(ethnicities),\n",
    "        'dob': random_date('1930-01-01', '2020-01-01'),\n",
    "        'therapy': choice(therapies) \n",
    "    }\n",
    "    \n",
    "samples_count = 1000\n",
    "samples_df = pd.DataFrame.from_dict([random_sample_data() for _ in range(samples_count)])\n",
    "samples_df.head()"
   ]
  },
  {
   "cell_type": "markdown",
   "metadata": {},
   "source": [
    "# Mold Data"
   ]
  },
  {
   "cell_type": "code",
   "execution_count": 139,
   "metadata": {},
   "outputs": [],
   "source": [
    "samples_df['gender'] = samples_df['gender'].map(gender_map)\n",
    "\n",
    "samples_df['ethnicity'] = samples_df['ethnicity'].map(ethnicity_map)\n",
    "\n",
    "samples_df['age'] = samples_df['dob'].apply(get_age)\n",
    "\n",
    "samples_df['therapy'] = samples_df['therapy'].map(therapy_map)"
   ]
  },
  {
   "cell_type": "code",
   "execution_count": 140,
   "metadata": {},
   "outputs": [
    {
     "data": {
      "text/html": [
       "<div>\n",
       "<style scoped>\n",
       "    .dataframe tbody tr th:only-of-type {\n",
       "        vertical-align: middle;\n",
       "    }\n",
       "\n",
       "    .dataframe tbody tr th {\n",
       "        vertical-align: top;\n",
       "    }\n",
       "\n",
       "    .dataframe thead th {\n",
       "        text-align: right;\n",
       "    }\n",
       "</style>\n",
       "<table border=\"1\" class=\"dataframe\">\n",
       "  <thead>\n",
       "    <tr style=\"text-align: right;\">\n",
       "      <th></th>\n",
       "      <th>dob</th>\n",
       "      <th>ethnicity</th>\n",
       "      <th>gender</th>\n",
       "      <th>therapy</th>\n",
       "      <th>age</th>\n",
       "    </tr>\n",
       "  </thead>\n",
       "  <tbody>\n",
       "    <tr>\n",
       "      <th>0</th>\n",
       "      <td>1979-03-21</td>\n",
       "      <td>9</td>\n",
       "      <td>0</td>\n",
       "      <td>2</td>\n",
       "      <td>41</td>\n",
       "    </tr>\n",
       "    <tr>\n",
       "      <th>1</th>\n",
       "      <td>1944-03-26</td>\n",
       "      <td>9</td>\n",
       "      <td>1</td>\n",
       "      <td>0</td>\n",
       "      <td>76</td>\n",
       "    </tr>\n",
       "    <tr>\n",
       "      <th>2</th>\n",
       "      <td>1972-12-22</td>\n",
       "      <td>12</td>\n",
       "      <td>1</td>\n",
       "      <td>0</td>\n",
       "      <td>48</td>\n",
       "    </tr>\n",
       "    <tr>\n",
       "      <th>3</th>\n",
       "      <td>1931-06-27</td>\n",
       "      <td>5</td>\n",
       "      <td>0</td>\n",
       "      <td>2</td>\n",
       "      <td>89</td>\n",
       "    </tr>\n",
       "    <tr>\n",
       "      <th>4</th>\n",
       "      <td>1949-05-20</td>\n",
       "      <td>1</td>\n",
       "      <td>0</td>\n",
       "      <td>1</td>\n",
       "      <td>71</td>\n",
       "    </tr>\n",
       "  </tbody>\n",
       "</table>\n",
       "</div>"
      ],
      "text/plain": [
       "          dob  ethnicity  gender  therapy  age\n",
       "0  1979-03-21          9       0        2   41\n",
       "1  1944-03-26          9       1        0   76\n",
       "2  1972-12-22         12       1        0   48\n",
       "3  1931-06-27          5       0        2   89\n",
       "4  1949-05-20          1       0        1   71"
      ]
     },
     "execution_count": 140,
     "metadata": {},
     "output_type": "execute_result"
    }
   ],
   "source": [
    "samples_df.head()"
   ]
  },
  {
   "cell_type": "markdown",
   "metadata": {},
   "source": [
    "###  Check for null values"
   ]
  },
  {
   "cell_type": "code",
   "execution_count": 141,
   "metadata": {},
   "outputs": [
    {
     "data": {
      "text/plain": [
       "False"
      ]
     },
     "execution_count": 141,
     "metadata": {},
     "output_type": "execute_result"
    }
   ],
   "source": [
    "samples_df.isnull().values.any()"
   ]
  },
  {
   "cell_type": "markdown",
   "metadata": {},
   "source": [
    "### Check class distribution\n",
    "\n",
    "Check id labeled data is evenly distributed"
   ]
  },
  {
   "cell_type": "code",
   "execution_count": 142,
   "metadata": {},
   "outputs": [
    {
     "name": "stdout",
     "output_type": "stream",
     "text": [
      "Number of therapy A cases:  322 (32.20%)\n",
      "Number of therapy B cases:  346 (34.60%)\n",
      "Number of therapy C cases:  332 (33.20%)\n"
     ]
    }
   ],
   "source": [
    "num_obs = len(samples_df)\n",
    "for therapy in therapies:\n",
    "    num_therapy = len(samples_df.loc[samples_df['therapy'] == therapy_map[therapy]])\n",
    "    print(\"Number of {} cases:  {} ({:2.2f}%)\".format(therapy, num_therapy, (num_therapy/num_obs) * 100))"
   ]
  },
  {
   "cell_type": "code",
   "execution_count": null,
   "metadata": {},
   "outputs": [],
   "source": []
  },
  {
   "cell_type": "markdown",
   "metadata": {},
   "source": [
    "### Prepare features/predcited data sets"
   ]
  },
  {
   "cell_type": "code",
   "execution_count": 143,
   "metadata": {},
   "outputs": [],
   "source": [
    "from sklearn import preprocessing\n",
    "\n",
    "feature_col_names = ['age', 'gender', 'ethnicity']\n",
    "predicted_class_names = ['therapy']\n",
    "\n",
    "X = samples_df[feature_col_names].values     # predictor feature columns\n",
    "y = samples_df[predicted_class_names].values # predicted class (1=true, 0=false)\n",
    "\n",
    "standard_scaler = preprocessing.StandardScaler()\n",
    "X_scaled = standard_scaler.fit_transform(X)"
   ]
  },
  {
   "cell_type": "code",
   "execution_count": 144,
   "metadata": {},
   "outputs": [
    {
     "data": {
      "text/html": [
       "<div>\n",
       "<style scoped>\n",
       "    .dataframe tbody tr th:only-of-type {\n",
       "        vertical-align: middle;\n",
       "    }\n",
       "\n",
       "    .dataframe tbody tr th {\n",
       "        vertical-align: top;\n",
       "    }\n",
       "\n",
       "    .dataframe thead th {\n",
       "        text-align: right;\n",
       "    }\n",
       "</style>\n",
       "<table border=\"1\" class=\"dataframe\">\n",
       "  <thead>\n",
       "    <tr style=\"text-align: right;\">\n",
       "      <th></th>\n",
       "      <th>age</th>\n",
       "      <th>gender</th>\n",
       "      <th>ethnicity</th>\n",
       "    </tr>\n",
       "  </thead>\n",
       "  <tbody>\n",
       "    <tr>\n",
       "      <th>count</th>\n",
       "      <td>1.000000e+03</td>\n",
       "      <td>1.000000e+03</td>\n",
       "      <td>1.000000e+03</td>\n",
       "    </tr>\n",
       "    <tr>\n",
       "      <th>mean</th>\n",
       "      <td>1.218886e-16</td>\n",
       "      <td>-1.036948e-16</td>\n",
       "      <td>8.482104e-17</td>\n",
       "    </tr>\n",
       "    <tr>\n",
       "      <th>std</th>\n",
       "      <td>1.000500e+00</td>\n",
       "      <td>1.000500e+00</td>\n",
       "      <td>1.000500e+00</td>\n",
       "    </tr>\n",
       "    <tr>\n",
       "      <th>min</th>\n",
       "      <td>-1.794009e+00</td>\n",
       "      <td>-9.940179e-01</td>\n",
       "      <td>-1.708101e+00</td>\n",
       "    </tr>\n",
       "    <tr>\n",
       "      <th>25%</th>\n",
       "      <td>-8.735770e-01</td>\n",
       "      <td>-9.940179e-01</td>\n",
       "      <td>-7.727961e-01</td>\n",
       "    </tr>\n",
       "    <tr>\n",
       "      <th>50%</th>\n",
       "      <td>6.623233e-02</td>\n",
       "      <td>-9.940179e-01</td>\n",
       "      <td>-7.131704e-02</td>\n",
       "    </tr>\n",
       "    <tr>\n",
       "      <th>75%</th>\n",
       "      <td>8.413328e-01</td>\n",
       "      <td>1.006018e+00</td>\n",
       "      <td>8.639884e-01</td>\n",
       "    </tr>\n",
       "    <tr>\n",
       "      <th>max</th>\n",
       "      <td>1.655188e+00</td>\n",
       "      <td>1.006018e+00</td>\n",
       "      <td>1.565467e+00</td>\n",
       "    </tr>\n",
       "  </tbody>\n",
       "</table>\n",
       "</div>"
      ],
      "text/plain": [
       "                age        gender     ethnicity\n",
       "count  1.000000e+03  1.000000e+03  1.000000e+03\n",
       "mean   1.218886e-16 -1.036948e-16  8.482104e-17\n",
       "std    1.000500e+00  1.000500e+00  1.000500e+00\n",
       "min   -1.794009e+00 -9.940179e-01 -1.708101e+00\n",
       "25%   -8.735770e-01 -9.940179e-01 -7.727961e-01\n",
       "50%    6.623233e-02 -9.940179e-01 -7.131704e-02\n",
       "75%    8.413328e-01  1.006018e+00  8.639884e-01\n",
       "max    1.655188e+00  1.006018e+00  1.565467e+00"
      ]
     },
     "execution_count": 144,
     "metadata": {},
     "output_type": "execute_result"
    }
   ],
   "source": [
    "X_scaled_df = pd.DataFrame(X_scaled, columns=feature_col_names)\n",
    "X_scaled_df.describe()"
   ]
  },
  {
   "cell_type": "markdown",
   "metadata": {},
   "source": [
    "### Spliting the data\n",
    "\n",
    "70% for training, 30% for testing"
   ]
  },
  {
   "cell_type": "code",
   "execution_count": 145,
   "metadata": {},
   "outputs": [],
   "source": [
    "from sklearn.model_selection import train_test_split\n",
    "\n",
    "split_test_size = 0.30\n",
    "X_train, X_test, y_train, y_test = train_test_split(X_scaled, y, test_size=split_test_size, random_state=42) "
   ]
  },
  {
   "cell_type": "code",
   "execution_count": 146,
   "metadata": {},
   "outputs": [
    {
     "name": "stdout",
     "output_type": "stream",
     "text": [
      "70.00% in training set\n",
      "30.00% in test set\n"
     ]
    }
   ],
   "source": [
    "print(\"{0:0.2f}% in training set\".format((len(X_train)/len(samples_df.index)) * 100))\n",
    "print(\"{0:0.2f}% in test set\".format((len(X_test)/len(samples_df.index)) * 100))"
   ]
  },
  {
   "cell_type": "code",
   "execution_count": null,
   "metadata": {},
   "outputs": [],
   "source": []
  },
  {
   "cell_type": "markdown",
   "metadata": {},
   "source": [
    "# Training Initial Algorithm - Naive Bayes"
   ]
  },
  {
   "cell_type": "code",
   "execution_count": 147,
   "metadata": {},
   "outputs": [
    {
     "data": {
      "text/plain": [
       "GaussianNB(priors=None, var_smoothing=1e-09)"
      ]
     },
     "execution_count": 147,
     "metadata": {},
     "output_type": "execute_result"
    }
   ],
   "source": [
    "from sklearn.naive_bayes import GaussianNB\n",
    "\n",
    "nb_model = GaussianNB()\n",
    "nb_model.fit(X_train, y_train.ravel())"
   ]
  },
  {
   "cell_type": "markdown",
   "metadata": {},
   "source": [
    "### Performance on Training Data"
   ]
  },
  {
   "cell_type": "code",
   "execution_count": 148,
   "metadata": {},
   "outputs": [],
   "source": [
    "# import the performance metrics library\n",
    "from sklearn import metrics"
   ]
  },
  {
   "cell_type": "code",
   "execution_count": 149,
   "metadata": {},
   "outputs": [
    {
     "name": "stdout",
     "output_type": "stream",
     "text": [
      "Accuracy: 0.3800\n"
     ]
    }
   ],
   "source": [
    "nb_predict_train = nb_model.predict(X_train)\n",
    "\n",
    "print(\"Accuracy: {0:.4f}\".format(metrics.accuracy_score(y_train, nb_predict_train)))"
   ]
  },
  {
   "cell_type": "markdown",
   "metadata": {},
   "source": [
    "### Performance on Testing Data"
   ]
  },
  {
   "cell_type": "code",
   "execution_count": 150,
   "metadata": {},
   "outputs": [
    {
     "name": "stdout",
     "output_type": "stream",
     "text": [
      "Accuracy: 0.2833\n"
     ]
    }
   ],
   "source": [
    "nb_predict_test = nb_model.predict(X_test)\n",
    "\n",
    "print(\"Accuracy: {0:.4f}\".format(metrics.accuracy_score(y_test, nb_predict_test)))"
   ]
  },
  {
   "cell_type": "markdown",
   "metadata": {},
   "source": [
    "### Metrics"
   ]
  },
  {
   "cell_type": "code",
   "execution_count": 151,
   "metadata": {},
   "outputs": [
    {
     "name": "stdout",
     "output_type": "stream",
     "text": [
      "Confusion Matrix\n",
      "[[15 63 26]\n",
      " [16 49 29]\n",
      " [18 63 21]]\n",
      "\n",
      "Classification Report\n",
      "              precision    recall  f1-score   support\n",
      "\n",
      "           0       0.31      0.14      0.20       104\n",
      "           1       0.28      0.52      0.36        94\n",
      "           2       0.28      0.21      0.24       102\n",
      "\n",
      "    accuracy                           0.28       300\n",
      "   macro avg       0.29      0.29      0.27       300\n",
      "weighted avg       0.29      0.28      0.26       300\n",
      "\n"
     ]
    }
   ],
   "source": [
    "print(\"Confusion Matrix\")\n",
    "print(\"{0}\".format(metrics.confusion_matrix(y_test, nb_predict_test)))\n",
    "print(\"\")\n",
    "\n",
    "print(\"Classification Report\")\n",
    "print(metrics.classification_report(y_test, nb_predict_test))"
   ]
  },
  {
   "cell_type": "code",
   "execution_count": null,
   "metadata": {},
   "outputs": [],
   "source": []
  },
  {
   "cell_type": "markdown",
   "metadata": {},
   "source": [
    "# Random Forest"
   ]
  },
  {
   "cell_type": "code",
   "execution_count": 152,
   "metadata": {},
   "outputs": [
    {
     "data": {
      "text/plain": [
       "RandomForestClassifier(bootstrap=True, class_weight=None, criterion='gini',\n",
       "                       max_depth=None, max_features='auto', max_leaf_nodes=None,\n",
       "                       min_impurity_decrease=0.0, min_impurity_split=None,\n",
       "                       min_samples_leaf=1, min_samples_split=2,\n",
       "                       min_weight_fraction_leaf=0.0, n_estimators=10,\n",
       "                       n_jobs=None, oob_score=False, random_state=42, verbose=0,\n",
       "                       warm_start=False)"
      ]
     },
     "execution_count": 152,
     "metadata": {},
     "output_type": "execute_result"
    }
   ],
   "source": [
    "from sklearn.ensemble import RandomForestClassifier\n",
    "rf_model = RandomForestClassifier(random_state=42, n_estimators=10)\n",
    "rf_model.fit(X_train, y_train.ravel()) "
   ]
  },
  {
   "cell_type": "markdown",
   "metadata": {},
   "source": [
    "### Predict Training Data"
   ]
  },
  {
   "cell_type": "code",
   "execution_count": 153,
   "metadata": {},
   "outputs": [
    {
     "name": "stdout",
     "output_type": "stream",
     "text": [
      "Accuracy: 0.8986\n"
     ]
    }
   ],
   "source": [
    "rf_predict_train = rf_model.predict(X_train)\n",
    "print(\"Accuracy: {0:.4f}\".format(metrics.accuracy_score(y_train, rf_predict_train)))"
   ]
  },
  {
   "cell_type": "markdown",
   "metadata": {},
   "source": [
    "### Predict Test Data"
   ]
  },
  {
   "cell_type": "code",
   "execution_count": 154,
   "metadata": {},
   "outputs": [
    {
     "name": "stdout",
     "output_type": "stream",
     "text": [
      "Accuracy: 0.3233\n"
     ]
    }
   ],
   "source": [
    "rf_predict_test = rf_model.predict(X_test)\n",
    "print(\"Accuracy: {0:.4f}\".format(metrics.accuracy_score(y_test, rf_predict_test)))"
   ]
  },
  {
   "cell_type": "code",
   "execution_count": 155,
   "metadata": {},
   "outputs": [
    {
     "name": "stdout",
     "output_type": "stream",
     "text": [
      "[[41 40 23]\n",
      " [30 35 29]\n",
      " [47 34 21]]\n",
      "\n",
      "Classification Report\n",
      "              precision    recall  f1-score   support\n",
      "\n",
      "           0       0.35      0.39      0.37       104\n",
      "           1       0.32      0.37      0.34        94\n",
      "           2       0.29      0.21      0.24       102\n",
      "\n",
      "    accuracy                           0.32       300\n",
      "   macro avg       0.32      0.32      0.32       300\n",
      "weighted avg       0.32      0.32      0.32       300\n",
      "\n"
     ]
    }
   ],
   "source": [
    "print(metrics.confusion_matrix(y_test, rf_predict_test) )\n",
    "print(\"\")\n",
    "print(\"Classification Report\")\n",
    "print(metrics.classification_report(y_test, rf_predict_test))"
   ]
  }
 ],
 "metadata": {
  "kernelspec": {
   "display_name": "Python 3",
   "language": "python",
   "name": "python3"
  },
  "language_info": {
   "codemirror_mode": {
    "name": "ipython",
    "version": 3
   },
   "file_extension": ".py",
   "mimetype": "text/x-python",
   "name": "python",
   "nbconvert_exporter": "python",
   "pygments_lexer": "ipython3",
   "version": "3.7.3"
  }
 },
 "nbformat": 4,
 "nbformat_minor": 4
}
